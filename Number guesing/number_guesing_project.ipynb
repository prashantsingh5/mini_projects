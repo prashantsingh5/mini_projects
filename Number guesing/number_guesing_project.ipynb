{
 "cells": [
  {
   "cell_type": "code",
   "execution_count": 1,
   "id": "b39075c3",
   "metadata": {},
   "outputs": [],
   "source": [
    "import random\n",
    "import time"
   ]
  },
  {
   "cell_type": "code",
   "execution_count": 2,
   "id": "b537be37",
   "metadata": {},
   "outputs": [],
   "source": [
    "def play_game():\n",
    "    print(\"Welcome to the Number Guessing Game!\")\n",
    "    name = input(\"Enter your name: \")\n",
    "\n",
    "    level = select_level()\n",
    "    secret_number = generate_secret_number(level)\n",
    "\n",
    "    attempts = 0\n",
    "    start_time = time.time()\n",
    "\n",
    "    while True:\n",
    "        guess = take_guess()\n",
    "        attempts += 1\n",
    "\n",
    "        if guess < secret_number:\n",
    "            print(\"Too low!\")\n",
    "        elif guess > secret_number:\n",
    "            print(\"Too high!\")\n",
    "        else:\n",
    "            end_time = time.time()\n",
    "            elapsed_time = round(end_time - start_time, 2)\n",
    "            score = calculate_score(level, attempts, elapsed_time)\n",
    "\n",
    "            print(f\"\\nCongratulations {name}! You guessed the number in {attempts} attempts.\")\n",
    "            print(f\"Your time: {elapsed_time} seconds\")\n",
    "            print(f\"Score: {score}\")\n",
    "\n",
    "            save_score(name, level, score)\n",
    "            break"
   ]
  },
  {
   "cell_type": "code",
   "execution_count": 3,
   "id": "3debdb27",
   "metadata": {},
   "outputs": [],
   "source": [
    "def select_level():\n",
    "    print(\"\\nSelect the difficulty level:\")\n",
    "    print(\"1. Easy (1-10)\")\n",
    "    print(\"2. Medium (1-50)\")\n",
    "    print(\"3. Hard (1-100)\")\n",
    "\n",
    "    while True:\n",
    "        choice = input(\"Enter your choice (1-3): \")\n",
    "        if choice in ['1', '2', '3']:\n",
    "            return int(choice)\n",
    "        else:\n",
    "            print(\"Invalid choice. Please try again.\")"
   ]
  },
  {
   "cell_type": "code",
   "execution_count": 4,
   "id": "ca1dfbbc",
   "metadata": {},
   "outputs": [],
   "source": [
    "def generate_secret_number(level):\n",
    "    if level == 1:\n",
    "        return random.randint(1, 10)\n",
    "    elif level == 2:\n",
    "        return random.randint(1, 50)\n",
    "    elif level == 3:\n",
    "        return random.randint(1, 100)"
   ]
  },
  {
   "cell_type": "code",
   "execution_count": 5,
   "id": "fdcb3096",
   "metadata": {},
   "outputs": [],
   "source": [
    "def take_guess():\n",
    "    while True:\n",
    "        try:\n",
    "            guess = int(input(\"\\nTake a guess: \"))\n",
    "            return guess\n",
    "        except ValueError:\n",
    "            print(\"Invalid input. Please enter a valid number.\")"
   ]
  },
  {
   "cell_type": "code",
   "execution_count": 6,
   "id": "3d7962f2",
   "metadata": {},
   "outputs": [],
   "source": [
    "def calculate_score(level, attempts, elapsed_time):\n",
    "    level_multipliers = {1: 10, 2: 5, 3: 2}\n",
    "    score = level_multipliers[level] * (100 - attempts) / elapsed_time\n",
    "    return round(score, 2)"
   ]
  },
  {
   "cell_type": "code",
   "execution_count": 7,
   "id": "4ee9538c",
   "metadata": {},
   "outputs": [],
   "source": [
    "def save_score(name, level, score):\n",
    "    with open(\"scores.txt\", \"a\") as file:\n",
    "        file.write(f\"{name} - Level: {level} - Score: {score}\\n\")"
   ]
  },
  {
   "cell_type": "code",
   "execution_count": 8,
   "id": "a0551da4",
   "metadata": {},
   "outputs": [],
   "source": [
    "def show_scores():\n",
    "    print(\"\\n--- High Scores ---\")\n",
    "    with open(\"scores.txt\", \"r\") as file:\n",
    "        scores = file.read()\n",
    "        if scores:\n",
    "            print(scores)\n",
    "        else:\n",
    "            print(\"No scores found.\")"
   ]
  },
  {
   "cell_type": "code",
   "execution_count": 9,
   "id": "fffce1f3",
   "metadata": {},
   "outputs": [],
   "source": [
    "def main():\n",
    "    print(\"==== Number Guessing Game ====\")\n",
    "    while True:\n",
    "        print(\"\\n1. Play Game\")\n",
    "        print(\"2. Show High Scores\")\n",
    "        print(\"3. Quit\")\n",
    "        choice = input(\"Enter your choice (1-3): \")\n",
    "\n",
    "        if choice == '1':\n",
    "            play_game()\n",
    "        elif choice == '2':\n",
    "            show_scores()\n",
    "        elif choice == '3':\n",
    "            print(\"Thank you for playing!\")\n",
    "            break\n",
    "        else:\n",
    "            print(\"Invalid choice. Please try again.\")"
   ]
  },
  {
   "cell_type": "code",
   "execution_count": 10,
   "id": "bee200e7",
   "metadata": {},
   "outputs": [
    {
     "name": "stdout",
     "output_type": "stream",
     "text": [
      "==== Number Guessing Game ====\n",
      "\n",
      "1. Play Game\n",
      "2. Show High Scores\n",
      "3. Quit\n",
      "Enter your choice (1-3): 1\n",
      "Welcome to the Number Guessing Game!\n",
      "Enter your name: prashant\n",
      "\n",
      "Select the difficulty level:\n",
      "1. Easy (1-10)\n",
      "2. Medium (1-50)\n",
      "3. Hard (1-100)\n",
      "Enter your choice (1-3): 1\n",
      "\n",
      "Take a guess: 6\n",
      "Too low!\n",
      "\n",
      "Take a guess: 9\n",
      "Too low!\n",
      "\n",
      "Take a guess: 10\n",
      "\n",
      "Congratulations prashant! You guessed the number in 3 attempts.\n",
      "Your time: 9.31 seconds\n",
      "Score: 104.19\n",
      "\n",
      "1. Play Game\n",
      "2. Show High Scores\n",
      "3. Quit\n",
      "Enter your choice (1-3): 2\n",
      "\n",
      "--- High Scores ---\n",
      "prashant - Level: 1 - Score: 104.19\n",
      "\n",
      "\n",
      "1. Play Game\n",
      "2. Show High Scores\n",
      "3. Quit\n",
      "Enter your choice (1-3): 1\n",
      "Welcome to the Number Guessing Game!\n",
      "Enter your name: prashant\n",
      "\n",
      "Select the difficulty level:\n",
      "1. Easy (1-10)\n",
      "2. Medium (1-50)\n",
      "3. Hard (1-100)\n",
      "Enter your choice (1-3): 2\n",
      "\n",
      "Take a guess: 34\n",
      "Too high!\n",
      "\n",
      "Take a guess: 23\n",
      "Too low!\n",
      "\n",
      "Take a guess: 29\n",
      "Too high!\n",
      "\n",
      "Take a guess: 27\n",
      "Too high!\n",
      "\n",
      "Take a guess: 25\n",
      "\n",
      "Congratulations prashant! You guessed the number in 5 attempts.\n",
      "Your time: 24.56 seconds\n",
      "Score: 19.34\n",
      "\n",
      "1. Play Game\n",
      "2. Show High Scores\n",
      "3. Quit\n",
      "Enter your choice (1-3): 3\n",
      "Thank you for playing!\n"
     ]
    }
   ],
   "source": [
    "main()"
   ]
  },
  {
   "cell_type": "code",
   "execution_count": null,
   "id": "04b0db3d",
   "metadata": {},
   "outputs": [],
   "source": []
  }
 ],
 "metadata": {
  "kernelspec": {
   "display_name": "Python 3 (ipykernel)",
   "language": "python",
   "name": "python3"
  },
  "language_info": {
   "codemirror_mode": {
    "name": "ipython",
    "version": 3
   },
   "file_extension": ".py",
   "mimetype": "text/x-python",
   "name": "python",
   "nbconvert_exporter": "python",
   "pygments_lexer": "ipython3",
   "version": "3.10.5"
  }
 },
 "nbformat": 4,
 "nbformat_minor": 5
}
